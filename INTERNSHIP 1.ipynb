{
 "cells": [
  {
   "cell_type": "markdown",
   "id": "8bda572c",
   "metadata": {},
   "source": [
    "Create a function in python to find all words that are at least 4 characters long in a string. The use of the re.compile() method is mandatory."
   ]
  },
  {
   "cell_type": "code",
   "execution_count": 4,
   "id": "8db3f128",
   "metadata": {},
   "outputs": [
    {
     "name": "stdout",
     "output_type": "stream",
     "text": [
      "Match onject: ['Indian', 'Aerosp', 'scient', 'Missil']\n"
     ]
    }
   ],
   "source": [
    "target_string = \"Apj Abdul kalam was an Indian Aerospace scientist  also known as the Missile Man of India \"\n",
    "result = re.findall(r\"\\w{6}\",target_string)\n",
    "\n",
    "print(\"Match onject:\",result)"
   ]
  },
  {
   "cell_type": "markdown",
   "id": "d98e1367",
   "metadata": {},
   "source": [
    "Create a function in python to find all three, four, and five character words in a string. The use of the re.compile() method is mandatory."
   ]
  },
  {
   "cell_type": "code",
   "execution_count": 8,
   "id": "b51ccc33",
   "metadata": {},
   "outputs": [
    {
     "name": "stdout",
     "output_type": "stream",
     "text": [
      "Match onject: ['Apj', 'Abdu', 'kala', 'was', 'Indi', 'Aero', 'spac', 'scie', 'ntis', 'also', 'know', 'the', 'Miss', 'ile', 'Man', 'Indi']\n"
     ]
    }
   ],
   "source": [
    "target_string = \"Apj Abdul kalam was an Indian Aerospace scientist  also known as the Missile Man of India \"\n",
    "result = re.findall(r\"\\w{3,4}\",target_string)\n",
    "\n",
    "print(\"Match onject:\",result)\n",
    "\n"
   ]
  },
  {
   "cell_type": "code",
   "execution_count": 9,
   "id": "7303204a",
   "metadata": {},
   "outputs": [
    {
     "name": "stdout",
     "output_type": "stream",
     "text": [
      "Match onject: ['Abdul', 'kalam', 'India', 'Aeros', 'scien', 'known', 'Missi', 'India']\n"
     ]
    }
   ],
   "source": [
    "target_string = \"Apj Abdul kalam was an Indian Aerospace scientist  also known as the Missile Man of India \"\n",
    "result = re.findall(r\"\\w{5}\",target_string)\n",
    "\n",
    "print(\"Match onject:\",result)"
   ]
  },
  {
   "cell_type": "markdown",
   "id": "702f40e1",
   "metadata": {},
   "source": [
    "Create a function in Python to remove the parenthesis in a list of strings. The use of the re.compile() method is mandatory."
   ]
  },
  {
   "cell_type": "code",
   "execution_count": null,
   "id": "4cef1a84",
   "metadata": {},
   "outputs": [],
   "source": [
    "No Idea"
   ]
  },
  {
   "cell_type": "markdown",
   "id": "5f9febaa",
   "metadata": {},
   "source": [
    "Write a python program to remove the parenthesis area from the text stored in the text file using Regular Expression."
   ]
  },
  {
   "cell_type": "code",
   "execution_count": null,
   "id": "61eb02ed",
   "metadata": {},
   "outputs": [],
   "source": [
    "[\"example\", \"hr@fliprobo\", \"github\", \"Hello\", \"Data\"]"
   ]
  },
  {
   "cell_type": "markdown",
   "id": "9cec0573",
   "metadata": {},
   "source": [
    "Question 2-  Write a Python program to find all words starting with 'a' or 'e' in a given string."
   ]
  },
  {
   "cell_type": "code",
   "execution_count": 16,
   "id": "f403977e",
   "metadata": {},
   "outputs": [
    {
     "ename": "NameError",
     "evalue": "name 'a' is not defined",
     "output_type": "error",
     "traceback": [
      "\u001b[1;31m---------------------------------------------------------------------------\u001b[0m",
      "\u001b[1;31mNameError\u001b[0m                                 Traceback (most recent call last)",
      "Cell \u001b[1;32mIn[16], line 3\u001b[0m\n\u001b[0;32m      1\u001b[0m \u001b[38;5;28;01mimport\u001b[39;00m \u001b[38;5;21;01mre\u001b[39;00m\n\u001b[0;32m      2\u001b[0m string \u001b[38;5;241m=\u001b[39m \u001b[38;5;124m\"\u001b[39m\u001b[38;5;124mJay  is buying ApplE from a storekeepar and storekeepar is saying ApplE is too costly\u001b[39m\u001b[38;5;124m\"\u001b[39m\n\u001b[1;32m----> 3\u001b[0m pattern\u001b[38;5;241m=\u001b[39m\u001b[43ma\u001b[49m[a\u001b[38;5;241m-\u001b[39mzA\u001b[38;5;241m-\u001b[39mZ]\u001b[38;5;241m+\u001b[39me\n\u001b[0;32m      4\u001b[0m result \u001b[38;5;241m=\u001b[39mre\u001b[38;5;241m.\u001b[39mfindall(pattern,string)\n\u001b[0;32m      5\u001b[0m \u001b[38;5;28mprint\u001b[39m(result)\n",
      "\u001b[1;31mNameError\u001b[0m: name 'a' is not defined"
     ]
    }
   ],
   "source": [
    "import re\n",
    "string = \"Jay  is buying ApplE from a storekeepar and storekeepar is saying ApplE is too costly\"\n",
    "pattern=a[a-zA-Z]+e\n",
    "result =re.findall(pattern,string)\n",
    "print(result)"
   ]
  },
  {
   "cell_type": "code",
   "execution_count": null,
   "id": "d1f456aa",
   "metadata": {},
   "outputs": [],
   "source": [
    " "
   ]
  },
  {
   "cell_type": "code",
   "execution_count": null,
   "id": "0ea8e546",
   "metadata": {},
   "outputs": [],
   "source": []
  },
  {
   "cell_type": "code",
   "execution_count": null,
   "id": "b6f44d3c",
   "metadata": {},
   "outputs": [],
   "source": []
  },
  {
   "cell_type": "code",
   "execution_count": null,
   "id": "5b85ff65",
   "metadata": {},
   "outputs": [],
   "source": []
  },
  {
   "cell_type": "code",
   "execution_count": null,
   "id": "701309ac",
   "metadata": {},
   "outputs": [],
   "source": []
  },
  {
   "cell_type": "code",
   "execution_count": null,
   "id": "3c727897",
   "metadata": {},
   "outputs": [],
   "source": []
  },
  {
   "cell_type": "code",
   "execution_count": null,
   "id": "755914a4",
   "metadata": {},
   "outputs": [],
   "source": []
  },
  {
   "cell_type": "code",
   "execution_count": null,
   "id": "90d4fa86",
   "metadata": {},
   "outputs": [],
   "source": []
  },
  {
   "cell_type": "code",
   "execution_count": null,
   "id": "95ac2574",
   "metadata": {},
   "outputs": [],
   "source": []
  }
 ],
 "metadata": {
  "kernelspec": {
   "display_name": "Python 3 (ipykernel)",
   "language": "python",
   "name": "python3"
  },
  "language_info": {
   "codemirror_mode": {
    "name": "ipython",
    "version": 3
   },
   "file_extension": ".py",
   "mimetype": "text/x-python",
   "name": "python",
   "nbconvert_exporter": "python",
   "pygments_lexer": "ipython3",
   "version": "3.10.9"
  }
 },
 "nbformat": 4,
 "nbformat_minor": 5
}
